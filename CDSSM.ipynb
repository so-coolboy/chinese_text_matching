{
  "nbformat": 4,
  "nbformat_minor": 0,
  "metadata": {
    "colab": {
      "name": "CDSSM.ipynb",
      "provenance": [],
      "collapsed_sections": []
    },
    "kernelspec": {
      "name": "python3",
      "display_name": "Python 3"
    },
    "accelerator": "GPU"
  },
  "cells": [
    {
      "cell_type": "markdown",
      "metadata": {
        "id": "1kHP4Vmy7YMb"
      },
      "source": [
        "# CDSSM算法中文数据实战"
      ]
    },
    {
      "cell_type": "markdown",
      "metadata": {
        "id": "3stRbT0S8fk5"
      },
      "source": [
        "## 数据准备\r\n",
        "数据来源于https://github.com/terrifyzhao/text_matching， \r\n",
        "里面是中文的匹配数据，有sentence1，sentence2和对应的label，0代表不匹配，1代表匹配。可以直接在GitHub中引用出来\r\n",
        "CDSSM算法对于中文文本，是直接转化成字向量来操作的。"
      ]
    },
    {
      "cell_type": "code",
      "metadata": {
        "colab": {
          "base_uri": "https://localhost:8080/"
        },
        "id": "O1AsR2BFQ_9m",
        "outputId": "38930e86-dbdf-455f-c8c1-81478e69354b"
      },
      "source": [
        "!git clone https://github.com/terrifyzhao/text_matching.git\r\n",
        "!cp -r /content/text_matching/input ./"
      ],
      "execution_count": 1,
      "outputs": [
        {
          "output_type": "stream",
          "text": [
            "Cloning into 'text_matching'...\n",
            "remote: Enumerating objects: 334, done.\u001b[K\n",
            "remote: Total 334 (delta 0), reused 0 (delta 0), pack-reused 334\u001b[K\n",
            "Receiving objects: 100% (334/334), 24.77 MiB | 31.47 MiB/s, done.\n",
            "Resolving deltas: 100% (212/212), done.\n"
          ],
          "name": "stdout"
        }
      ]
    },
    {
      "cell_type": "code",
      "metadata": {
        "colab": {
          "base_uri": "https://localhost:8080/"
        },
        "id": "a8YVW8lK9aIJ",
        "outputId": "55913882-1c2b-4388-da4b-580bb0eb356b"
      },
      "source": [
        "!ls ./input/"
      ],
      "execution_count": 2,
      "outputs": [
        {
          "output_type": "stream",
          "text": [
            "dev.csv  test.csv  train.csv  vocab.txt\n"
          ],
          "name": "stdout"
        }
      ]
    },
    {
      "cell_type": "code",
      "metadata": {
        "colab": {
          "base_uri": "https://localhost:8080/"
        },
        "id": "IYFHCK4r9cFn",
        "outputId": "6b2a9756-d885-452c-a373-c0760f780876"
      },
      "source": [
        "!head -5 ./input/train.csv"
      ],
      "execution_count": 3,
      "outputs": [
        {
          "output_type": "stream",
          "text": [
            "﻿sentence1,sentence2,label\n",
            "用微信都6年，微信没有微粒贷功能,4。  号码来微粒贷,0\n",
            "微信消费算吗,还有多少钱没还,0\n",
            "交易密码忘记了找回密码绑定的手机卡也掉了,怎么最近安全老是要改密码呢好麻烦,0\n",
            "你好 我昨天晚上申请的没有打电话给我 今天之内一定会打吗？,什么时候可以到账,0\n"
          ],
          "name": "stdout"
        }
      ]
    },
    {
      "cell_type": "code",
      "metadata": {
        "id": "QGr62DLFIWka"
      },
      "source": [
        "# 首先设置一下本模型中要用到的具体的参数\r\n",
        "# 设置基本的参数\r\n",
        "base_params = {\r\n",
        "    'num_classes':2,               # 类别   \r\n",
        "    'max_features':1700,             # 嵌入层的最大词数\r\n",
        "    'embed_size':200,              # 嵌入维度\r\n",
        "    'filters':300,\r\n",
        "    'kernel_size':3,\r\n",
        "    'strides':1,\r\n",
        "    'padding':'same',\r\n",
        "    'conv_activation_func':'relu',\r\n",
        "    'embedding_matrix':[],\r\n",
        "    'w_initializer':'random_uniform',\r\n",
        "    'b_initializer':'zeros',\r\n",
        "    'dropout_rate':0.2,\r\n",
        "    'mlp_activation_func':'relu',\r\n",
        "    'mlp_num_layers':1,\r\n",
        "    'mlp_num_units':128,\r\n",
        "    'mlp_num_fan_out':128,\r\n",
        "    'input_shapes':[(64,),(64,)],         # 每句话填充后的最大长度\r\n",
        "    'task':'Classification',\r\n",
        "}"
      ],
      "execution_count": 4,
      "outputs": []
    },
    {
      "cell_type": "markdown",
      "metadata": {
        "id": "G_2hCIGv7j1h"
      },
      "source": [
        "# 数据输入与转换\r\n",
        "由于CDSSM算法对于中文要求的输入是字向量，因为字相比于词，数量大大减少，如果是英文处理方式则不同，会使用word-trigram和word hashing。\r\n",
        "接下来将直接把每个字转化为数字，然后利用keras的Enbedding层进行嵌入。"
      ]
    },
    {
      "cell_type": "code",
      "metadata": {
        "id": "nFGtdcHeRdLt"
      },
      "source": [
        "#首先把文本中所有的字统计出来，制作出字表\r\n",
        "import pandas as pd\r\n",
        "\r\n",
        "df = pd.read_csv('input/train.csv')\r\n",
        "p = df['sentence1'].values\r\n",
        "h = df['sentence2'].values\r\n",
        "p_seg = list(map(lambda x: list(x.replace(\" \",\"\")), p))\r\n",
        "h_seg = list(map(lambda x: list(x.replace(\" \",\"\")), h))\r\n",
        "common_texts = []\r\n",
        "common_texts.extend(p_seg)\r\n",
        "common_texts.extend(h_seg)\r\n",
        "\r\n",
        "\r\n",
        "\r\n",
        "df = pd.read_csv('input/dev.csv')\r\n",
        "p = df['sentence1'].values\r\n",
        "h = df['sentence2'].values\r\n",
        "p_seg = list(map(lambda x: list(x.replace(\" \",\"\")), p))\r\n",
        "h_seg = list(map(lambda x: list(x.replace(\" \",\"\")), h))\r\n",
        "common_texts.extend(p_seg)\r\n",
        "common_texts.extend(h_seg)\r\n",
        "\r\n",
        "df = pd.read_csv('input/test.csv')\r\n",
        "p = df['sentence1'].values\r\n",
        "h = df['sentence2'].values\r\n",
        "p_seg = list(map(lambda x: list(x.replace(\" \",\"\")), p))\r\n",
        "h_seg = list(map(lambda x: list(x.replace(\" \",\"\")), h))\r\n",
        "common_texts.extend(p_seg)\r\n",
        "common_texts.extend(h_seg)"
      ],
      "execution_count": 5,
      "outputs": []
    },
    {
      "cell_type": "code",
      "metadata": {
        "colab": {
          "base_uri": "https://localhost:8080/"
        },
        "id": "tsti40c-TCCs",
        "outputId": "557a30d4-74be-484e-e1ad-8e4c2c2eb4cc"
      },
      "source": [
        "common_texts[0]"
      ],
      "execution_count": 6,
      "outputs": [
        {
          "output_type": "execute_result",
          "data": {
            "text/plain": [
              "['用',\n",
              " '微',\n",
              " '信',\n",
              " '都',\n",
              " '6',\n",
              " '年',\n",
              " '，',\n",
              " '微',\n",
              " '信',\n",
              " '没',\n",
              " '有',\n",
              " '微',\n",
              " '粒',\n",
              " '贷',\n",
              " '功',\n",
              " '能']"
            ]
          },
          "metadata": {
            "tags": []
          },
          "execution_count": 6
        }
      ]
    },
    {
      "cell_type": "code",
      "metadata": {
        "id": "3YhdaWqLTGDK"
      },
      "source": [
        "#使用set来统计不同的字\r\n",
        "char_set = set()\r\n",
        "for sample in common_texts:\r\n",
        "    for char in sample:\r\n",
        "        char_set.add(char)\r\n",
        "with open('input/char_vocab.txt','w',encoding='utf8') as f:\r\n",
        "    f.write(\"\\n\".join(sorted(list(char_set),reverse=True)))"
      ],
      "execution_count": 7,
      "outputs": []
    },
    {
      "cell_type": "code",
      "metadata": {
        "id": "JR6tcyF-_WX3"
      },
      "source": [
        "#首先读取训练集的数据\r\n",
        "df = pd.read_csv('input/train.csv')\r\n",
        "p = df['sentence1'].values\r\n",
        "h = df['sentence2'].values\r\n",
        "label = df['label'].values"
      ],
      "execution_count": 8,
      "outputs": []
    },
    {
      "cell_type": "code",
      "metadata": {
        "id": "-0ZqWsoi_8oW"
      },
      "source": [
        "#写一个shuffle函数，将里面的数据随机打乱\r\n",
        "import numpy as np\r\n",
        "\r\n",
        "def shuffle(*arrs):\r\n",
        "    \"\"\" shuffle\r\n",
        "\r\n",
        "    Shuffle 数据\r\n",
        "\r\n",
        "    Arguments:\r\n",
        "        *arrs: 数组数据\r\n",
        "\r\n",
        "    Returns:\r\n",
        "        shuffle后的数据\r\n",
        "\r\n",
        "    \"\"\"\r\n",
        "    arrs = list(arrs)\r\n",
        "    for i, arr in enumerate(arrs):\r\n",
        "        assert len(arrs[0]) == len(arrs[i])\r\n",
        "        arrs[i] = np.array(arr)\r\n",
        "    p = np.random.permutation(len(arrs[0]))\r\n",
        "    return tuple(arr[p] for arr in arrs)\r\n",
        "\r\n",
        "p, h, label = shuffle(p, h, label)"
      ],
      "execution_count": 9,
      "outputs": []
    },
    {
      "cell_type": "code",
      "metadata": {
        "id": "1rBZEU0wATTt"
      },
      "source": [
        "#接下来要将字转换成对应的数字，所以需要先对字表中的字编码\r\n",
        "# 加载字典\r\n",
        "def load_char_vocab():\r\n",
        "    vocab = [line.strip() for line in open('./input/char_vocab.txt', encoding='utf-8').readlines()]\r\n",
        "    word2idx = {word: index for index, word in enumerate(vocab,start=1)}\r\n",
        "    idx2word = {index: word for index, word in enumerate(vocab,start=1)}\r\n",
        "    return word2idx, idx2word\r\n",
        "\r\n",
        "word2idx, idx2word = load_char_vocab()"
      ],
      "execution_count": 10,
      "outputs": []
    },
    {
      "cell_type": "code",
      "metadata": {
        "id": "RvPQOivdBOyd"
      },
      "source": [
        "#利用字典进行转换\r\n",
        "p_list, h_list = [], []\r\n",
        "for p_sentence, h_sentence in zip(p, h):\r\n",
        "    p = [word2idx[word.lower()] for word in p_sentence if len(word.strip()) > 0 and word.lower() in word2idx.keys()]\r\n",
        "    h = [word2idx[word.lower()] for word in h_sentence if len(word.strip()) > 0 and word.lower() in word2idx.keys()]\r\n",
        "\r\n",
        "    p_list.append(p)\r\n",
        "    h_list.append(h)"
      ],
      "execution_count": 11,
      "outputs": []
    },
    {
      "cell_type": "code",
      "metadata": {
        "colab": {
          "base_uri": "https://localhost:8080/"
        },
        "id": "ETvIrVg5Bp3L",
        "outputId": "75828c98-7c8b-4e8e-cbaf-fefa3f6a2676"
      },
      "source": [
        "#看一下编码后的句子\r\n",
        "p_list[0]"
      ],
      "execution_count": 12,
      "outputs": [
        {
          "output_type": "execute_result",
          "data": {
            "text/plain": [
              "[575, 284, 482, 1569, 708, 671, 852, 1368]"
            ]
          },
          "metadata": {
            "tags": []
          },
          "execution_count": 12
        }
      ]
    },
    {
      "cell_type": "code",
      "metadata": {
        "id": "1hhKZdCRByf2"
      },
      "source": [
        "#接下来需要写一个pad_sequences函数，将每句话都填充到相同长度，不足的补零\r\n",
        "def pad_sequences(sequences, maxlen=None, dtype='int32', padding='post',\r\n",
        "                  truncating='post', value=0.):\r\n",
        "    \"\"\" pad_sequences\r\n",
        "\r\n",
        "    把序列长度转变为一样长的，如果设置了maxlen则长度统一为maxlen，如果没有设置则默认取\r\n",
        "    最大的长度。填充和截取包括两种方法，post与pre，post指从尾部开始处理，pre指从头部\r\n",
        "    开始处理，默认都是从尾部开始。\r\n",
        "\r\n",
        "    Arguments:\r\n",
        "        sequences: 序列\r\n",
        "        maxlen: int 最大长度\r\n",
        "        dtype: 转变后的数据类型\r\n",
        "        padding: 填充方法'pre' or 'post'\r\n",
        "        truncating: 截取方法'pre' or 'post'\r\n",
        "        value: float 填充的值\r\n",
        "\r\n",
        "    Returns:\r\n",
        "        x: numpy array 填充后的序列维度为 (number_of_sequences, maxlen)\r\n",
        "\r\n",
        "    \"\"\"\r\n",
        "    lengths = [len(s) for s in sequences]\r\n",
        "\r\n",
        "    nb_samples = len(sequences)\r\n",
        "    if maxlen is None:\r\n",
        "        maxlen = np.max(lengths)\r\n",
        "\r\n",
        "    x = (np.ones((nb_samples, maxlen)) * value).astype(dtype)\r\n",
        "    for idx, s in enumerate(sequences):\r\n",
        "        if len(s) == 0:\r\n",
        "            continue  # empty list was found\r\n",
        "        if truncating == 'pre':\r\n",
        "            trunc = s[-maxlen:]\r\n",
        "        elif truncating == 'post':\r\n",
        "            trunc = s[:maxlen]\r\n",
        "        else:\r\n",
        "            raise ValueError(\"Truncating type '%s' not understood\" % padding)\r\n",
        "\r\n",
        "        if padding == 'post':\r\n",
        "            x[idx, :len(trunc)] = trunc\r\n",
        "        elif padding == 'pre':\r\n",
        "            x[idx, -len(trunc):] = trunc\r\n",
        "        else:\r\n",
        "            raise ValueError(\"Padding type '%s' not understood\" % padding)\r\n",
        "    return x\r\n",
        "\r\n",
        "p_list = pad_sequences(p_list, maxlen=base_params['input_shapes'][0][0])\r\n",
        "h_list = pad_sequences(h_list, maxlen=base_params['input_shapes'][0][0])"
      ],
      "execution_count": 13,
      "outputs": []
    },
    {
      "cell_type": "code",
      "metadata": {
        "colab": {
          "base_uri": "https://localhost:8080/"
        },
        "id": "Chfb7uH5CbGu",
        "outputId": "7c54d62f-8722-4c9e-a408-6258b0298d80"
      },
      "source": [
        "#看一下编码后的句子\r\n",
        "p_list[0]"
      ],
      "execution_count": 14,
      "outputs": [
        {
          "output_type": "execute_result",
          "data": {
            "text/plain": [
              "array([ 575,  284,  482, 1569,  708,  671,  852, 1368,    0,    0,    0,\n",
              "          0,    0,    0,    0,    0,    0,    0,    0,    0,    0,    0,\n",
              "          0,    0,    0,    0,    0,    0,    0,    0,    0,    0,    0,\n",
              "          0,    0,    0,    0,    0,    0,    0,    0,    0,    0,    0,\n",
              "          0,    0,    0,    0,    0,    0,    0,    0,    0,    0,    0,\n",
              "          0,    0,    0,    0,    0,    0,    0,    0,    0], dtype=int32)"
            ]
          },
          "metadata": {
            "tags": []
          },
          "execution_count": 14
        }
      ]
    },
    {
      "cell_type": "code",
      "metadata": {
        "id": "KE1ELQ2zCeHE"
      },
      "source": [
        "#将训练集数据制作成特征和标签\r\n",
        "import keras\r\n",
        "p = p_list\r\n",
        "h = h_list\r\n",
        "y = label\r\n",
        "x = [p,h]\r\n",
        "y = keras.utils.to_categorical(y,num_classes=2)"
      ],
      "execution_count": 15,
      "outputs": []
    },
    {
      "cell_type": "code",
      "metadata": {
        "id": "Vj_UQWmcDows"
      },
      "source": [
        "#对验证集进行相同的操作\r\n",
        "df = pd.read_csv('input/dev.csv')\r\n",
        "p = df['sentence1'].values\r\n",
        "h = df['sentence2'].values\r\n",
        "label = df['label'].values\r\n",
        "\r\n",
        "p, h, label = shuffle(p, h, label)\r\n",
        "word2idx, idx2word = load_char_vocab()\r\n",
        "\r\n",
        "#利用字典进行转换\r\n",
        "p_list, h_list = [], []\r\n",
        "for p_sentence, h_sentence in zip(p, h):\r\n",
        "    p = [word2idx[word.lower()] for word in p_sentence if len(word.strip()) > 0 and word.lower() in word2idx.keys()]\r\n",
        "    h = [word2idx[word.lower()] for word in h_sentence if len(word.strip()) > 0 and word.lower() in word2idx.keys()]\r\n",
        "\r\n",
        "    p_list.append(p)\r\n",
        "    h_list.append(h)\r\n",
        "\r\n",
        "p_list = pad_sequences(p_list, maxlen=base_params['input_shapes'][0][0])\r\n",
        "h_list = pad_sequences(h_list, maxlen=base_params['input_shapes'][0][0])\r\n",
        "\r\n",
        "p_eval = p_list\r\n",
        "h_eval = h_list\r\n",
        "y_eval = label\r\n",
        "x_eval = [p_eval, h_eval]\r\n",
        "y_eval = keras.utils.to_categorical(y_eval,num_classes=2)"
      ],
      "execution_count": 16,
      "outputs": []
    },
    {
      "cell_type": "code",
      "metadata": {
        "id": "FPI-TsrHEi3E"
      },
      "source": [
        "#对测试集进行相同的操作,注意这里的测试集是有标签的，便于比较算法效果，测试集并不参与训练过程\r\n",
        "df = pd.read_csv('input/test.csv')\r\n",
        "p = df['sentence1'].values\r\n",
        "h = df['sentence2'].values\r\n",
        "label = df['label'].values\r\n",
        "\r\n",
        "p, h, label = shuffle(p, h, label)\r\n",
        "word2idx, idx2word = load_char_vocab()\r\n",
        "\r\n",
        "#利用字典进行转换\r\n",
        "p_list, h_list = [], []\r\n",
        "for p_sentence, h_sentence in zip(p, h):\r\n",
        "    p = [word2idx[word.lower()] for word in p_sentence if len(word.strip()) > 0 and word.lower() in word2idx.keys()]\r\n",
        "    h = [word2idx[word.lower()] for word in h_sentence if len(word.strip()) > 0 and word.lower() in word2idx.keys()]\r\n",
        "\r\n",
        "    p_list.append(p)\r\n",
        "    h_list.append(h)\r\n",
        "\r\n",
        "p_list = pad_sequences(p_list, maxlen=base_params['input_shapes'][0][0])\r\n",
        "h_list = pad_sequences(h_list, maxlen=base_params['input_shapes'][0][0])\r\n",
        "\r\n",
        "p_test = p_list\r\n",
        "h_test = h_list\r\n",
        "y_test = label\r\n",
        "x_test = [p_test, h_test]\r\n",
        "y_test = keras.utils.to_categorical(y_test, num_classes=2)"
      ],
      "execution_count": 17,
      "outputs": []
    },
    {
      "cell_type": "markdown",
      "metadata": {
        "id": "n54VFQ3RFU7K"
      },
      "source": [
        "# 建立模型"
      ]
    },
    {
      "cell_type": "markdown",
      "metadata": {
        "id": "_BRLWEo6FY7b"
      },
      "source": [
        "模型建立参考了：https://github.com/wangle1218/deep_text_matching  与match Zoo：https://github.com/NTMC-Community/MatchZoo\r\n",
        "模型的结构在build函数里，包括输入层，表示层，匹配层，输出层。输入层输入的是两个文本向量。表示层先进行词嵌入，然后使用一维卷积、最大池化、全连接来捕捉相关信息，这里可以与DSSM进行对比，这个一维卷积加对每个feature map的最大池化，使得效果相比DSSM有了很大提高。匹配层计算了两个向量的余弦相似度"
      ]
    },
    {
      "cell_type": "code",
      "metadata": {
        "id": "O1C2C1R_Fz1o"
      },
      "source": [
        "from keras.models import Model\r\n",
        "import tensorflow as tf \r\n",
        "\r\n",
        "np.random.seed(1)\r\n",
        "tf.random.set_seed(1)\r\n",
        "\r\n",
        "class CDSSM(object):\r\n",
        "\r\n",
        "    def __init__( self, params):\r\n",
        "        \"\"\"Init.\"\"\"\r\n",
        "        self._params = params\r\n",
        "\r\n",
        "    \r\n",
        "    def make_embedding_layer(self,name='embedding',embed_type='char',**kwargs):   #加载词向量的方法\r\n",
        "\r\n",
        "        def init_embedding(weights=None):\r\n",
        "            if embed_type == \"char\":\r\n",
        "                input_dim = self._params['max_features']\r\n",
        "                output_dim = self._params['embed_size']\r\n",
        "            else:\r\n",
        "                input_dim = self._params['word_max_features']\r\n",
        "                output_dim = self._params['word_embed_size']\r\n",
        "\r\n",
        "            return keras.layers.Embedding(\r\n",
        "                input_dim = input_dim,\r\n",
        "                output_dim = output_dim,\r\n",
        "                trainable = False,\r\n",
        "                name = name,\r\n",
        "                weights = weights,\r\n",
        "                **kwargs)\r\n",
        "\r\n",
        "        if embed_type == \"char\":\r\n",
        "            embed_weights = self._params['embedding_matrix']\r\n",
        "        else:\r\n",
        "            embed_weights = self._params['word_embedding_matrix']\r\n",
        "\r\n",
        "        if embed_weights == []:\r\n",
        "            embedding = init_embedding()\r\n",
        "        else:\r\n",
        "            embedding = init_embedding(weights = [embed_weights])\r\n",
        "\r\n",
        "        return embedding\r\n",
        "\r\n",
        "    def _make_multi_layer_perceptron_layer(self) -> keras.layers.Layer:   #多层感知机方法（全连接）\r\n",
        "        # TODO: do not create new layers for a second call\r\n",
        "        def _wrapper(x):\r\n",
        "            activation = self._params['mlp_activation_func']   #全连接激活函数\r\n",
        "            for _ in range(self._params['mlp_num_layers']):  #全连接层数\r\n",
        "                x = keras.layers.Dense(self._params['mlp_num_units'],   #全连接神经元数\r\n",
        "                                       activation=activation)(x)\r\n",
        "            return keras.layers.Dense(self._params['mlp_num_fan_out'],  #全连接最后一层神经元数\r\n",
        "                                      activation=activation)(x)\r\n",
        "\r\n",
        "        return _wrapper\r\n",
        "\r\n",
        "    def _make_inputs(self) -> list:        #定义输入层，这里只有两个输入，也就是要判断是否匹配的两段文本\r\n",
        "        input_left = keras.layers.Input(\r\n",
        "            name='text_left',\r\n",
        "            shape=self._params['input_shapes'][0]\r\n",
        "        )\r\n",
        "        input_right = keras.layers.Input(\r\n",
        "            name='text_right',\r\n",
        "            shape=self._params['input_shapes'][1]\r\n",
        "        )\r\n",
        "        return [input_left, input_right]\r\n",
        "\r\n",
        "    def _make_output_layer(self) -> keras.layers.Layer:   #定义输出层\r\n",
        "        \"\"\":return: a correctly shaped keras dense layer for model output.\"\"\"\r\n",
        "        task = self._params['task']\r\n",
        "        if task == \"Classification\":\r\n",
        "            return keras.layers.Dense(self._params['num_classes'], activation='softmax')  #分类使用softmax，两个文档输入就分类\r\n",
        "        elif task == \"Ranking\":\r\n",
        "            return keras.layers.Dense(1, activation='linear')          #排序使用linear，多个文档输入就排序\r\n",
        "        else:\r\n",
        "            raise ValueError(f\"{task} is not a valid task type.\"\r\n",
        "                             f\"Must be in `Ranking` and `Classification`.\")\r\n",
        "\r\n",
        "    def _create_base_network(self): #定义基本的网络结构，可以看成是表示层\r\n",
        "\r\n",
        "        def _wrapper(x):\r\n",
        "\r\n",
        "            x = self.embedding(x)\r\n",
        "            x = keras.layers.Conv1D(\r\n",
        "                filters=self._params['filters'],\r\n",
        "                kernel_size=self._params['kernel_size'],\r\n",
        "                strides=self._params['strides'],\r\n",
        "                padding=self._params['padding'],\r\n",
        "                activation=self._params['conv_activation_func'],\r\n",
        "                kernel_initializer=self._params['w_initializer'],\r\n",
        "                bias_initializer=self._params['b_initializer'])(x)\r\n",
        "            # Apply max pooling by take max at each dimension across\r\n",
        "            # all word_trigram features.\r\n",
        "            x = keras.layers.Dropout(self._params['dropout_rate'])(x)\r\n",
        "            x = keras.layers.GlobalMaxPool1D()(x)\r\n",
        "            # Apply a none-linear transformation use a tanh layer.\r\n",
        "            x = self._make_multi_layer_perceptron_layer()(x)\r\n",
        "            return x\r\n",
        "\r\n",
        "        return _wrapper\r\n",
        "\r\n",
        "    def build(self):  #定义模型的网络框架，匹配层在这里实现\r\n",
        "        \"\"\"\r\n",
        "        Build model structure.\r\n",
        "        \"\"\"\r\n",
        "        self.embedding = self.make_embedding_layer()   #嵌入层\r\n",
        "        base_network = self._create_base_network()     #表示层\r\n",
        "        # Left input and right input.\r\n",
        "        input_left, input_right = self._make_inputs() #输入层\r\n",
        "        print(input_left.shape)\r\n",
        "        # Process left & right input.\r\n",
        "        x = [base_network(input_left),\r\n",
        "             base_network(input_right)]              #表示层\r\n",
        "        # Dot product with cosine similarity.\r\n",
        "        x = keras.layers.Dot(axes=[1, 1], normalize=True)(x)  #匹配层，这是对点乘结果正则化，其实就是求两样本的余弦相似性。\r\n",
        "        x_out = self._make_output_layer()(x)           #输出层\r\n",
        "        model = Model(inputs=[input_left, input_right],\r\n",
        "                              outputs=x_out)\r\n",
        "        return model\r\n",
        "\r\n"
      ],
      "execution_count": 18,
      "outputs": []
    },
    {
      "cell_type": "markdown",
      "metadata": {
        "id": "D1e3S0tjNibw"
      },
      "source": [
        "# 加载模型训练"
      ]
    },
    {
      "cell_type": "code",
      "metadata": {
        "id": "S-YbfumJH8Uz"
      },
      "source": [
        "params = base_params\r\n",
        "backend = CDSSM(params)"
      ],
      "execution_count": 19,
      "outputs": []
    },
    {
      "cell_type": "code",
      "metadata": {
        "id": "io6Qv_rvJ21Z",
        "colab": {
          "base_uri": "https://localhost:8080/"
        },
        "outputId": "f2f3c894-8034-4d4c-98fa-0af521a344ac"
      },
      "source": [
        "model = backend.build()"
      ],
      "execution_count": 20,
      "outputs": [
        {
          "output_type": "stream",
          "text": [
            "(None, 64)\n"
          ],
          "name": "stdout"
        }
      ]
    },
    {
      "cell_type": "code",
      "metadata": {
        "id": "q3iwKspxL4Cp"
      },
      "source": [
        "model.compile(\r\n",
        "        loss='categorical_crossentropy', \r\n",
        "        optimizer='adam', \r\n",
        "        metrics=['accuracy']\r\n",
        "        )"
      ],
      "execution_count": null,
      "outputs": []
    },
    {
      "cell_type": "code",
      "metadata": {
        "colab": {
          "base_uri": "https://localhost:8080/"
        },
        "id": "d6dVcvRdL9Wf",
        "outputId": "93a7e3ac-f18e-431a-f5d7-54bb9ec1aa04"
      },
      "source": [
        "print(model.summary())"
      ],
      "execution_count": null,
      "outputs": [
        {
          "output_type": "stream",
          "text": [
            "Model: \"model\"\n",
            "__________________________________________________________________________________________________\n",
            "Layer (type)                    Output Shape         Param #     Connected to                     \n",
            "==================================================================================================\n",
            "text_left (InputLayer)          [(None, 64)]         0                                            \n",
            "__________________________________________________________________________________________________\n",
            "text_right (InputLayer)         [(None, 64)]         0                                            \n",
            "__________________________________________________________________________________________________\n",
            "embedding (Embedding)           (None, 64, 200)      340000      text_left[0][0]                  \n",
            "                                                                 text_right[0][0]                 \n",
            "__________________________________________________________________________________________________\n",
            "conv1d (Conv1D)                 (None, 64, 300)      180300      embedding[0][0]                  \n",
            "__________________________________________________________________________________________________\n",
            "conv1d_1 (Conv1D)               (None, 64, 300)      180300      embedding[1][0]                  \n",
            "__________________________________________________________________________________________________\n",
            "dropout (Dropout)               (None, 64, 300)      0           conv1d[0][0]                     \n",
            "__________________________________________________________________________________________________\n",
            "dropout_1 (Dropout)             (None, 64, 300)      0           conv1d_1[0][0]                   \n",
            "__________________________________________________________________________________________________\n",
            "global_max_pooling1d (GlobalMax (None, 300)          0           dropout[0][0]                    \n",
            "__________________________________________________________________________________________________\n",
            "global_max_pooling1d_1 (GlobalM (None, 300)          0           dropout_1[0][0]                  \n",
            "__________________________________________________________________________________________________\n",
            "dense (Dense)                   (None, 128)          38528       global_max_pooling1d[0][0]       \n",
            "__________________________________________________________________________________________________\n",
            "dense_2 (Dense)                 (None, 128)          38528       global_max_pooling1d_1[0][0]     \n",
            "__________________________________________________________________________________________________\n",
            "dense_1 (Dense)                 (None, 128)          16512       dense[0][0]                      \n",
            "__________________________________________________________________________________________________\n",
            "dense_3 (Dense)                 (None, 128)          16512       dense_2[0][0]                    \n",
            "__________________________________________________________________________________________________\n",
            "dot (Dot)                       (None, 1)            0           dense_1[0][0]                    \n",
            "                                                                 dense_3[0][0]                    \n",
            "__________________________________________________________________________________________________\n",
            "dense_4 (Dense)                 (None, 2)            4           dot[0][0]                        \n",
            "==================================================================================================\n",
            "Total params: 810,684\n",
            "Trainable params: 470,684\n",
            "Non-trainable params: 340,000\n",
            "__________________________________________________________________________________________________\n",
            "None\n"
          ],
          "name": "stdout"
        }
      ]
    },
    {
      "cell_type": "code",
      "metadata": {
        "id": "XWz0ftrfMVMg"
      },
      "source": [
        "!mkdir output"
      ],
      "execution_count": null,
      "outputs": []
    },
    {
      "cell_type": "code",
      "metadata": {
        "colab": {
          "base_uri": "https://localhost:8080/"
        },
        "id": "LC3Lp-9-MGtf",
        "outputId": "34182f56-c684-4692-9d86-a93988c70ec3"
      },
      "source": [
        "earlystop = keras.callbacks.EarlyStopping(\r\n",
        "        monitor='val_accuracy', \r\n",
        "        patience=4, \r\n",
        "        verbose=2, \r\n",
        "        mode='max'\r\n",
        "        )\r\n",
        "model_name = 'CDSSM'\r\n",
        "bast_model_filepath = './output/best_%s_model.h5' % model_name\r\n",
        "checkpoint = keras.callbacks.ModelCheckpoint(\r\n",
        "    bast_model_filepath, \r\n",
        "    monitor='val_accuracy', \r\n",
        "    verbose=1, \r\n",
        "    save_best_only=True,\r\n",
        "    mode='max'\r\n",
        "    )\r\n",
        "model.fit(\r\n",
        "    x=x, \r\n",
        "    y=y, \r\n",
        "    batch_size=64, \r\n",
        "    epochs=15, \r\n",
        "    validation_data=(x_eval, y_eval), \r\n",
        "    shuffle=True, \r\n",
        "    callbacks=[earlystop,checkpoint]\r\n",
        "    )"
      ],
      "execution_count": null,
      "outputs": [
        {
          "output_type": "stream",
          "text": [
            "Epoch 1/15\n",
            "1563/1563 [==============================] - 18s 7ms/step - loss: 0.6288 - accuracy: 0.6365 - val_loss: 0.5500 - val_accuracy: 0.7239\n",
            "\n",
            "Epoch 00001: val_accuracy improved from -inf to 0.72390, saving model to ./output/best_CDSSM_model.h5\n",
            "Epoch 2/15\n",
            "1563/1563 [==============================] - 11s 7ms/step - loss: 0.4760 - accuracy: 0.7868 - val_loss: 0.5088 - val_accuracy: 0.7618\n",
            "\n",
            "Epoch 00002: val_accuracy improved from 0.72390 to 0.76180, saving model to ./output/best_CDSSM_model.h5\n",
            "Epoch 3/15\n",
            "1563/1563 [==============================] - 11s 7ms/step - loss: 0.3877 - accuracy: 0.8390 - val_loss: 0.5097 - val_accuracy: 0.7666\n",
            "\n",
            "Epoch 00003: val_accuracy improved from 0.76180 to 0.76660, saving model to ./output/best_CDSSM_model.h5\n",
            "Epoch 4/15\n",
            "1563/1563 [==============================] - 11s 7ms/step - loss: 0.3299 - accuracy: 0.8677 - val_loss: 0.5040 - val_accuracy: 0.7664\n",
            "\n",
            "Epoch 00004: val_accuracy did not improve from 0.76660\n",
            "Epoch 5/15\n",
            "1563/1563 [==============================] - 11s 7ms/step - loss: 0.2875 - accuracy: 0.8882 - val_loss: 0.4935 - val_accuracy: 0.7844\n",
            "\n",
            "Epoch 00005: val_accuracy improved from 0.76660 to 0.78440, saving model to ./output/best_CDSSM_model.h5\n",
            "Epoch 6/15\n",
            "1563/1563 [==============================] - 11s 7ms/step - loss: 0.2522 - accuracy: 0.9045 - val_loss: 0.5277 - val_accuracy: 0.7770\n",
            "\n",
            "Epoch 00006: val_accuracy did not improve from 0.78440\n",
            "Epoch 7/15\n",
            "1563/1563 [==============================] - 11s 7ms/step - loss: 0.2228 - accuracy: 0.9163 - val_loss: 0.5182 - val_accuracy: 0.7830\n",
            "\n",
            "Epoch 00007: val_accuracy did not improve from 0.78440\n",
            "Epoch 8/15\n",
            "1563/1563 [==============================] - 11s 7ms/step - loss: 0.1991 - accuracy: 0.9259 - val_loss: 0.5399 - val_accuracy: 0.7839\n",
            "\n",
            "Epoch 00008: val_accuracy did not improve from 0.78440\n",
            "Epoch 9/15\n",
            "1563/1563 [==============================] - 11s 7ms/step - loss: 0.1813 - accuracy: 0.9337 - val_loss: 0.5670 - val_accuracy: 0.7697\n",
            "\n",
            "Epoch 00009: val_accuracy did not improve from 0.78440\n",
            "Epoch 00009: early stopping\n"
          ],
          "name": "stdout"
        },
        {
          "output_type": "execute_result",
          "data": {
            "text/plain": [
              "<tensorflow.python.keras.callbacks.History at 0x7ffb99c5ca20>"
            ]
          },
          "metadata": {
            "tags": []
          },
          "execution_count": 68
        }
      ]
    },
    {
      "cell_type": "code",
      "metadata": {
        "id": "RinZM_KhNoj_"
      },
      "source": [
        "# 保存模型\r\n",
        "model_frame_path = \"./output/%s_model.json\" % model_name\r\n",
        "model_json = model.to_json()\r\n",
        "with open(model_frame_path, \"w\") as json_file:\r\n",
        "    json_file.write(model_json)"
      ],
      "execution_count": null,
      "outputs": []
    },
    {
      "cell_type": "markdown",
      "metadata": {
        "id": "VjL7-L8RN-8n"
      },
      "source": [
        "# 测试模型"
      ]
    },
    {
      "cell_type": "code",
      "metadata": {
        "colab": {
          "base_uri": "https://localhost:8080/"
        },
        "id": "aS99ULO0N112",
        "outputId": "f4736bc8-4bd5-4f5f-dd0f-27142dd4c2ee"
      },
      "source": [
        "model.load_weights(bast_model_filepath)\r\n",
        "model.compile(\r\n",
        "    loss='categorical_crossentropy', \r\n",
        "    optimizer='adam', \r\n",
        "    metrics=['accuracy']\r\n",
        "    )\r\n",
        "\r\n",
        "loss, acc = model.evaluate(\r\n",
        "    x=x_test, \r\n",
        "    y=y_test, \r\n",
        "    batch_size=128, \r\n",
        "    verbose=1\r\n",
        "    )\r\n",
        "print(\"Test loss:\",loss, \"Test accuracy:\",acc)"
      ],
      "execution_count": null,
      "outputs": [
        {
          "output_type": "stream",
          "text": [
            "79/79 [==============================] - 1s 6ms/step - loss: 0.5151 - accuracy: 0.7723\n",
            "Test loss: 0.5113568902015686 Test accuracy: 0.7728999853134155\n"
          ],
          "name": "stdout"
        }
      ]
    }
  ]
}