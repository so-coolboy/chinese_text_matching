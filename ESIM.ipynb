{
  "nbformat": 4,
  "nbformat_minor": 0,
  "metadata": {
    "colab": {
      "name": "ESIM.ipynb",
      "provenance": [],
      "toc_visible": true
    },
    "kernelspec": {
      "name": "python3",
      "display_name": "Python 3"
    },
    "accelerator": "GPU"
  },
  "cells": [
    {
      "cell_type": "markdown",
      "metadata": {
        "id": "1kHP4Vmy7YMb"
      },
      "source": [
        "# esim算法实战"
      ]
    },
    {
      "cell_type": "markdown",
      "metadata": {
        "id": "3stRbT0S8fk5"
      },
      "source": [
        "## 数据准备\r\n",
        "数据来源于https://github.com/terrifyzhao/text_matching， 里面是中文的匹配数据，有sentence1，sentence2和对应的label，0代表不匹配，1代表匹配。可以直接在GitHub中引用出来"
      ]
    },
    {
      "cell_type": "code",
      "metadata": {
        "colab": {
          "base_uri": "https://localhost:8080/"
        },
        "id": "O1AsR2BFQ_9m",
        "outputId": "9ade105a-d980-4e97-deb7-3e0aa8f7e79e"
      },
      "source": [
        "!git clone https://github.com/terrifyzhao/text_matching.git\r\n",
        "!cp -r /content/text_matching/input ./"
      ],
      "execution_count": 1,
      "outputs": [
        {
          "output_type": "stream",
          "text": [
            "Cloning into 'text_matching'...\n",
            "remote: Enumerating objects: 334, done.\u001b[K\n",
            "remote: Total 334 (delta 0), reused 0 (delta 0), pack-reused 334\u001b[K\n",
            "Receiving objects: 100% (334/334), 24.77 MiB | 26.28 MiB/s, done.\n",
            "Resolving deltas: 100% (212/212), done.\n"
          ],
          "name": "stdout"
        }
      ]
    },
    {
      "cell_type": "code",
      "metadata": {
        "colab": {
          "base_uri": "https://localhost:8080/"
        },
        "id": "a8YVW8lK9aIJ",
        "outputId": "7afb227c-ce18-4369-bed0-0964e227eecc"
      },
      "source": [
        "!ls ./input/"
      ],
      "execution_count": 2,
      "outputs": [
        {
          "output_type": "stream",
          "text": [
            "dev.csv  test.csv  train.csv  vocab.txt\n"
          ],
          "name": "stdout"
        }
      ]
    },
    {
      "cell_type": "code",
      "metadata": {
        "colab": {
          "base_uri": "https://localhost:8080/"
        },
        "id": "IYFHCK4r9cFn",
        "outputId": "884ff7e1-9a28-4659-ac07-3165cb420ab1"
      },
      "source": [
        "!head -5 ./input/train.csv"
      ],
      "execution_count": 4,
      "outputs": [
        {
          "output_type": "stream",
          "text": [
            "﻿sentence1,sentence2,label\n",
            "用微信都6年，微信没有微粒贷功能,4。  号码来微粒贷,0\n",
            "微信消费算吗,还有多少钱没还,0\n",
            "交易密码忘记了找回密码绑定的手机卡也掉了,怎么最近安全老是要改密码呢好麻烦,0\n",
            "你好 我昨天晚上申请的没有打电话给我 今天之内一定会打吗？,什么时候可以到账,0\n"
          ],
          "name": "stdout"
        }
      ]
    },
    {
      "cell_type": "code",
      "metadata": {
        "id": "QGr62DLFIWka"
      },
      "source": [
        "# 首先设置一下本模型中要用到的具体的参数\r\n",
        "# 设置基本的参数\r\n",
        "base_params = {\r\n",
        "    'num_classes':2,               # 类别   \r\n",
        "    'max_features':1700,             # 嵌入层的最大词数\r\n",
        "    'embed_size':200,              # 嵌入维度\r\n",
        "    'filters':300,\r\n",
        "    'kernel_size':3,\r\n",
        "    'strides':1,\r\n",
        "    'padding':'same',\r\n",
        "    'conv_activation_func':'relu',\r\n",
        "    'embedding_matrix':[],\r\n",
        "    'w_initializer':'random_uniform',\r\n",
        "    'b_initializer':'zeros',\r\n",
        "    'dropout_rate':0.2,\r\n",
        "    'mlp_activation_func':'relu',\r\n",
        "    'mlp_num_layers':1,\r\n",
        "    'mlp_num_units':128,\r\n",
        "    'mlp_num_fan_out':128,\r\n",
        "    'input_shapes':[(64,),(64,)],         # 每句话填充后的最大长度\r\n",
        "    'task':'Classification',\r\n",
        "}\r\n",
        "\r\n",
        "esim_params = base_params\r\n",
        "esim_params['mlp_num_layers'] = 1\r\n",
        "esim_params['mlp_num_units'] = 256\r\n",
        "esim_params['mlp_num_fan_out'] = 128\r\n",
        "esim_params['lstm_units'] = 64\r\n",
        "esim_params['dropout_rate'] = 0.3\r\n",
        "esim_params['embed_size'] = 100\r\n",
        "base_params = esim_params"
      ],
      "execution_count": 5,
      "outputs": []
    },
    {
      "cell_type": "markdown",
      "metadata": {
        "id": "G_2hCIGv7j1h"
      },
      "source": [
        "# 数据输入与转换\r\n",
        "由于esim算法对于中文要求的输入是字向量，因为字相比于词，数量大大减少"
      ]
    },
    {
      "cell_type": "code",
      "metadata": {
        "id": "nFGtdcHeRdLt"
      },
      "source": [
        "#首先把文本中所有的字统计出来，制作出字表\r\n",
        "import pandas as pd\r\n",
        "\r\n",
        "df = pd.read_csv('input/train.csv')\r\n",
        "p = df['sentence1'].values\r\n",
        "h = df['sentence2'].values\r\n",
        "p_seg = list(map(lambda x: list(x.replace(\" \",\"\")), p))\r\n",
        "h_seg = list(map(lambda x: list(x.replace(\" \",\"\")), h))\r\n",
        "common_texts = []\r\n",
        "common_texts.extend(p_seg)\r\n",
        "common_texts.extend(h_seg)\r\n",
        "\r\n",
        "\r\n",
        "\r\n",
        "df = pd.read_csv('input/dev.csv')\r\n",
        "p = df['sentence1'].values\r\n",
        "h = df['sentence2'].values\r\n",
        "p_seg = list(map(lambda x: list(x.replace(\" \",\"\")), p))\r\n",
        "h_seg = list(map(lambda x: list(x.replace(\" \",\"\")), h))\r\n",
        "common_texts.extend(p_seg)\r\n",
        "common_texts.extend(h_seg)\r\n",
        "\r\n",
        "df = pd.read_csv('input/test.csv')\r\n",
        "p = df['sentence1'].values\r\n",
        "h = df['sentence2'].values\r\n",
        "p_seg = list(map(lambda x: list(x.replace(\" \",\"\")), p))\r\n",
        "h_seg = list(map(lambda x: list(x.replace(\" \",\"\")), h))\r\n",
        "common_texts.extend(p_seg)\r\n",
        "common_texts.extend(h_seg)"
      ],
      "execution_count": 6,
      "outputs": []
    },
    {
      "cell_type": "code",
      "metadata": {
        "colab": {
          "base_uri": "https://localhost:8080/"
        },
        "id": "tsti40c-TCCs",
        "outputId": "360c58e0-6ba1-4150-c97c-296da3aa5848"
      },
      "source": [
        "common_texts[0]"
      ],
      "execution_count": 7,
      "outputs": [
        {
          "output_type": "execute_result",
          "data": {
            "text/plain": [
              "['用',\n",
              " '微',\n",
              " '信',\n",
              " '都',\n",
              " '6',\n",
              " '年',\n",
              " '，',\n",
              " '微',\n",
              " '信',\n",
              " '没',\n",
              " '有',\n",
              " '微',\n",
              " '粒',\n",
              " '贷',\n",
              " '功',\n",
              " '能']"
            ]
          },
          "metadata": {
            "tags": []
          },
          "execution_count": 7
        }
      ]
    },
    {
      "cell_type": "code",
      "metadata": {
        "id": "3YhdaWqLTGDK"
      },
      "source": [
        "#使用set来统计不同的字\r\n",
        "char_set = set()\r\n",
        "for sample in common_texts:\r\n",
        "    for char in sample:\r\n",
        "        char_set.add(char)\r\n",
        "with open('input/char_vocab.txt','w',encoding='utf8') as f:\r\n",
        "    f.write(\"\\n\".join(sorted(list(char_set),reverse=True)))"
      ],
      "execution_count": 8,
      "outputs": []
    },
    {
      "cell_type": "code",
      "metadata": {
        "id": "JR6tcyF-_WX3"
      },
      "source": [
        "#首先读取训练集的数据\r\n",
        "df = pd.read_csv('input/train.csv')\r\n",
        "p = df['sentence1'].values\r\n",
        "h = df['sentence2'].values\r\n",
        "label = df['label'].values"
      ],
      "execution_count": 9,
      "outputs": []
    },
    {
      "cell_type": "code",
      "metadata": {
        "id": "-0ZqWsoi_8oW"
      },
      "source": [
        "#写一个shuffle函数，将里面的数据随机打乱\r\n",
        "import numpy as np\r\n",
        "\r\n",
        "def shuffle(*arrs):\r\n",
        "    \"\"\" shuffle\r\n",
        "\r\n",
        "    Shuffle 数据\r\n",
        "\r\n",
        "    Arguments:\r\n",
        "        *arrs: 数组数据\r\n",
        "\r\n",
        "    Returns:\r\n",
        "        shuffle后的数据\r\n",
        "\r\n",
        "    \"\"\"\r\n",
        "    arrs = list(arrs)\r\n",
        "    for i, arr in enumerate(arrs):\r\n",
        "        assert len(arrs[0]) == len(arrs[i])\r\n",
        "        arrs[i] = np.array(arr)\r\n",
        "    p = np.random.permutation(len(arrs[0]))\r\n",
        "    return tuple(arr[p] for arr in arrs)\r\n",
        "\r\n",
        "p, h, label = shuffle(p, h, label)"
      ],
      "execution_count": 10,
      "outputs": []
    },
    {
      "cell_type": "code",
      "metadata": {
        "id": "1rBZEU0wATTt"
      },
      "source": [
        "#接下来要将字转换成对应的数字，所以需要先对字表中的字编码\r\n",
        "# 加载字典\r\n",
        "def load_char_vocab():\r\n",
        "    vocab = [line.strip() for line in open('./input/char_vocab.txt', encoding='utf-8').readlines()]\r\n",
        "    word2idx = {word: index for index, word in enumerate(vocab,start=1)}\r\n",
        "    idx2word = {index: word for index, word in enumerate(vocab,start=1)}\r\n",
        "    return word2idx, idx2word\r\n",
        "\r\n",
        "word2idx, idx2word = load_char_vocab()"
      ],
      "execution_count": 11,
      "outputs": []
    },
    {
      "cell_type": "code",
      "metadata": {
        "id": "RvPQOivdBOyd"
      },
      "source": [
        "#利用字典进行转换\r\n",
        "p_list, h_list = [], []\r\n",
        "for p_sentence, h_sentence in zip(p, h):\r\n",
        "    p = [word2idx[word.lower()] for word in p_sentence if len(word.strip()) > 0 and word.lower() in word2idx.keys()]\r\n",
        "    h = [word2idx[word.lower()] for word in h_sentence if len(word.strip()) > 0 and word.lower() in word2idx.keys()]\r\n",
        "\r\n",
        "    p_list.append(p)\r\n",
        "    h_list.append(h)"
      ],
      "execution_count": 12,
      "outputs": []
    },
    {
      "cell_type": "code",
      "metadata": {
        "colab": {
          "base_uri": "https://localhost:8080/"
        },
        "id": "ETvIrVg5Bp3L",
        "outputId": "87faabe4-4202-4811-b4b7-324a4312bf4f"
      },
      "source": [
        "#看一下编码后的句子\r\n",
        "p_list[0]"
      ],
      "execution_count": 13,
      "outputs": [
        {
          "output_type": "execute_result",
          "data": {
            "text/plain": [
              "[424, 1281, 290, 1381, 1563, 231]"
            ]
          },
          "metadata": {
            "tags": []
          },
          "execution_count": 13
        }
      ]
    },
    {
      "cell_type": "code",
      "metadata": {
        "id": "1hhKZdCRByf2"
      },
      "source": [
        "#接下来需要写一个pad_sequences函数，将每句话都填充到相同长度，不足的补零\r\n",
        "def pad_sequences(sequences, maxlen=None, dtype='int32', padding='post',\r\n",
        "                  truncating='post', value=0.):\r\n",
        "    \"\"\" pad_sequences\r\n",
        "\r\n",
        "    把序列长度转变为一样长的，如果设置了maxlen则长度统一为maxlen，如果没有设置则默认取\r\n",
        "    最大的长度。填充和截取包括两种方法，post与pre，post指从尾部开始处理，pre指从头部\r\n",
        "    开始处理，默认都是从尾部开始。\r\n",
        "\r\n",
        "    Arguments:\r\n",
        "        sequences: 序列\r\n",
        "        maxlen: int 最大长度\r\n",
        "        dtype: 转变后的数据类型\r\n",
        "        padding: 填充方法'pre' or 'post'\r\n",
        "        truncating: 截取方法'pre' or 'post'\r\n",
        "        value: float 填充的值\r\n",
        "\r\n",
        "    Returns:\r\n",
        "        x: numpy array 填充后的序列维度为 (number_of_sequences, maxlen)\r\n",
        "\r\n",
        "    \"\"\"\r\n",
        "    lengths = [len(s) for s in sequences]\r\n",
        "\r\n",
        "    nb_samples = len(sequences)\r\n",
        "    if maxlen is None:\r\n",
        "        maxlen = np.max(lengths)\r\n",
        "\r\n",
        "    x = (np.ones((nb_samples, maxlen)) * value).astype(dtype)\r\n",
        "    for idx, s in enumerate(sequences):\r\n",
        "        if len(s) == 0:\r\n",
        "            continue  # empty list was found\r\n",
        "        if truncating == 'pre':\r\n",
        "            trunc = s[-maxlen:]\r\n",
        "        elif truncating == 'post':\r\n",
        "            trunc = s[:maxlen]\r\n",
        "        else:\r\n",
        "            raise ValueError(\"Truncating type '%s' not understood\" % padding)\r\n",
        "\r\n",
        "        if padding == 'post':\r\n",
        "            x[idx, :len(trunc)] = trunc\r\n",
        "        elif padding == 'pre':\r\n",
        "            x[idx, -len(trunc):] = trunc\r\n",
        "        else:\r\n",
        "            raise ValueError(\"Padding type '%s' not understood\" % padding)\r\n",
        "    return x\r\n",
        "\r\n",
        "p_list = pad_sequences(p_list, maxlen=base_params['input_shapes'][0][0])\r\n",
        "h_list = pad_sequences(h_list, maxlen=base_params['input_shapes'][0][0])"
      ],
      "execution_count": 14,
      "outputs": []
    },
    {
      "cell_type": "code",
      "metadata": {
        "colab": {
          "base_uri": "https://localhost:8080/"
        },
        "id": "Chfb7uH5CbGu",
        "outputId": "ec4873c6-8e8e-48b4-e5ef-749d033078a3"
      },
      "source": [
        "#看一下编码后的句子\r\n",
        "p_list[0]"
      ],
      "execution_count": 15,
      "outputs": [
        {
          "output_type": "execute_result",
          "data": {
            "text/plain": [
              "array([ 424, 1281,  290, 1381, 1563,  231,    0,    0,    0,    0,    0,\n",
              "          0,    0,    0,    0,    0,    0,    0,    0,    0,    0,    0,\n",
              "          0,    0,    0,    0,    0,    0,    0,    0,    0,    0,    0,\n",
              "          0,    0,    0,    0,    0,    0,    0,    0,    0,    0,    0,\n",
              "          0,    0,    0,    0,    0,    0,    0,    0,    0,    0,    0,\n",
              "          0,    0,    0,    0,    0,    0,    0,    0,    0], dtype=int32)"
            ]
          },
          "metadata": {
            "tags": []
          },
          "execution_count": 15
        }
      ]
    },
    {
      "cell_type": "code",
      "metadata": {
        "id": "KE1ELQ2zCeHE"
      },
      "source": [
        "#将训练集数据制作成特征和标签\r\n",
        "import keras\r\n",
        "p = p_list\r\n",
        "h = h_list\r\n",
        "y = label\r\n",
        "x = [p,h]\r\n",
        "y = keras.utils.to_categorical(y,num_classes=2)"
      ],
      "execution_count": 16,
      "outputs": []
    },
    {
      "cell_type": "code",
      "metadata": {
        "id": "Vj_UQWmcDows"
      },
      "source": [
        "#对验证集进行相同的操作\r\n",
        "df = pd.read_csv('input/dev.csv')\r\n",
        "p = df['sentence1'].values\r\n",
        "h = df['sentence2'].values\r\n",
        "label = df['label'].values\r\n",
        "\r\n",
        "p, h, label = shuffle(p, h, label)\r\n",
        "word2idx, idx2word = load_char_vocab()\r\n",
        "\r\n",
        "#利用字典进行转换\r\n",
        "p_list, h_list = [], []\r\n",
        "for p_sentence, h_sentence in zip(p, h):\r\n",
        "    p = [word2idx[word.lower()] for word in p_sentence if len(word.strip()) > 0 and word.lower() in word2idx.keys()]\r\n",
        "    h = [word2idx[word.lower()] for word in h_sentence if len(word.strip()) > 0 and word.lower() in word2idx.keys()]\r\n",
        "\r\n",
        "    p_list.append(p)\r\n",
        "    h_list.append(h)\r\n",
        "\r\n",
        "p_list = pad_sequences(p_list, maxlen=base_params['input_shapes'][0][0])\r\n",
        "h_list = pad_sequences(h_list, maxlen=base_params['input_shapes'][0][0])\r\n",
        "\r\n",
        "p_eval = p_list\r\n",
        "h_eval = h_list\r\n",
        "y_eval = label\r\n",
        "x_eval = [p_eval, h_eval]\r\n",
        "y_eval = keras.utils.to_categorical(y_eval,num_classes=2)"
      ],
      "execution_count": 17,
      "outputs": []
    },
    {
      "cell_type": "code",
      "metadata": {
        "id": "FPI-TsrHEi3E"
      },
      "source": [
        "#对测试集进行相同的操作,注意这里的测试集是有标签的，便于比较算法效果，测试集并不参与训练过程\r\n",
        "df = pd.read_csv('input/test.csv')\r\n",
        "p = df['sentence1'].values\r\n",
        "h = df['sentence2'].values\r\n",
        "label = df['label'].values\r\n",
        "\r\n",
        "p, h, label = shuffle(p, h, label)\r\n",
        "word2idx, idx2word = load_char_vocab()\r\n",
        "\r\n",
        "#利用字典进行转换\r\n",
        "p_list, h_list = [], []\r\n",
        "for p_sentence, h_sentence in zip(p, h):\r\n",
        "    p = [word2idx[word.lower()] for word in p_sentence if len(word.strip()) > 0 and word.lower() in word2idx.keys()]\r\n",
        "    h = [word2idx[word.lower()] for word in h_sentence if len(word.strip()) > 0 and word.lower() in word2idx.keys()]\r\n",
        "\r\n",
        "    p_list.append(p)\r\n",
        "    h_list.append(h)\r\n",
        "\r\n",
        "p_list = pad_sequences(p_list, maxlen=base_params['input_shapes'][0][0])\r\n",
        "h_list = pad_sequences(h_list, maxlen=base_params['input_shapes'][0][0])\r\n",
        "\r\n",
        "p_test = p_list\r\n",
        "h_test = h_list\r\n",
        "y_test = label\r\n",
        "x_test = [p_test, h_test]\r\n",
        "y_test = keras.utils.to_categorical(y_test, num_classes=2)"
      ],
      "execution_count": 18,
      "outputs": []
    },
    {
      "cell_type": "markdown",
      "metadata": {
        "id": "n54VFQ3RFU7K"
      },
      "source": [
        "# 建立模型"
      ]
    },
    {
      "cell_type": "markdown",
      "metadata": {
        "id": "_BRLWEo6FY7b"
      },
      "source": [
        "模型建立参考了：https://github.com/wangle1218/deep_text_matching  与match Zoo：https://github.com/NTMC-Community/MatchZoo  \r\n",
        "模型的结构在build函数里"
      ]
    },
    {
      "cell_type": "code",
      "metadata": {
        "id": "2hLHnybXCOph"
      },
      "source": [
        "#为什么要把这个作为一个类层定义呢，因为我之前用tf.nn.top_k函数，会报错，因为使用了自定义的层，必须转化为类才行，可以看：https://blog.csdn.net/qq_44930937/article/details/104509254\r\n",
        "from keras.engine import Layer, InputSpec\r\n",
        "from keras.layers import Flatten\r\n",
        "import keras.backend as K\r\n",
        "class SoftAttention(object):\r\n",
        "    \"\"\"\r\n",
        "    Layer to compute local inference between two encoded sentences a and b.\r\n",
        "    \"\"\"\r\n",
        "\r\n",
        "    def __call__(self, inputs):\r\n",
        "        a = inputs[0]\r\n",
        "        b = inputs[1]\r\n",
        "\r\n",
        "        attention = keras.layers.Lambda(self._attention,\r\n",
        "                                        output_shape = self._attention_output_shape,\r\n",
        "                                        arguments = None)(inputs)\r\n",
        "\r\n",
        "        align_a = keras.layers.Lambda(self._soft_alignment,\r\n",
        "                                     output_shape = self._soft_alignment_output_shape,\r\n",
        "                                     arguments = None)([attention, a])\r\n",
        "        align_b = keras.layers.Lambda(self._soft_alignment,\r\n",
        "                                     output_shape = self._soft_alignment_output_shape,\r\n",
        "                                     arguments = None)([attention, b])\r\n",
        "\r\n",
        "        return align_a, align_b\r\n",
        "\r\n",
        "    def _attention(self, inputs):\r\n",
        "        \"\"\"\r\n",
        "        Compute the attention between elements of two sentences with the dot\r\n",
        "        product.\r\n",
        "        Args:\r\n",
        "            inputs: A list containing two elements, one for the first sentence\r\n",
        "                    and one for the second, both encoded by a BiLSTM.\r\n",
        "        Returns:\r\n",
        "            A tensor containing the dot product (attention weights between the\r\n",
        "            elements of the two sentences).\r\n",
        "        \"\"\"\r\n",
        "        attn_weights = K.batch_dot(x=inputs[0],\r\n",
        "                                   y=K.permute_dimensions(inputs[1],\r\n",
        "                                                          pattern=(0, 2, 1)))\r\n",
        "        return K.permute_dimensions(attn_weights, (0, 2, 1))\r\n",
        "\r\n",
        "    def _attention_output_shape(self, inputs):\r\n",
        "        input_shape = inputs[0]\r\n",
        "        embedding_size = input_shape[1]\r\n",
        "        return (input_shape[0], embedding_size, embedding_size)\r\n",
        "\r\n",
        "    def _soft_alignment(self, inputs):\r\n",
        "        \"\"\"\r\n",
        "        Compute the soft alignment between the elements of two sentences.\r\n",
        "        Args:\r\n",
        "            inputs: A list of two elements, the first is a tensor of attention\r\n",
        "                    weights, the second is the encoded sentence on which to\r\n",
        "                    compute the alignments.\r\n",
        "        Returns:\r\n",
        "            A tensor containing the alignments.\r\n",
        "        \"\"\"\r\n",
        "        attention = inputs[0]\r\n",
        "        sentence = inputs[1]\r\n",
        "\r\n",
        "        # Subtract the max. from the attention weights to avoid overflows.\r\n",
        "        exp = K.exp(attention - K.max(attention, axis=-1, keepdims=True))\r\n",
        "        exp_sum = K.sum(exp, axis=-1, keepdims=True)\r\n",
        "        softmax = exp / exp_sum\r\n",
        "\r\n",
        "        return K.batch_dot(softmax, sentence)\r\n",
        "\r\n",
        "    def _soft_alignment_output_shape(self, inputs):\r\n",
        "        attention_shape = inputs[0]\r\n",
        "        sentence_shape = inputs[1]\r\n",
        "        return (attention_shape[0], attention_shape[1], sentence_shape[2])\r\n"
      ],
      "execution_count": 19,
      "outputs": []
    },
    {
      "cell_type": "code",
      "metadata": {
        "id": "O1C2C1R_Fz1o"
      },
      "source": [
        "from keras.models import Model\r\n",
        "import tensorflow as tf \r\n",
        "\r\n",
        "np.random.seed(1)\r\n",
        "tf.random.set_seed(1)\r\n",
        "\r\n",
        "class ESIM(object):\r\n",
        "\r\n",
        "    def __init__( self, params):\r\n",
        "        \"\"\"Init.\"\"\"\r\n",
        "        self._params = params\r\n",
        "\r\n",
        "    \r\n",
        "    def make_embedding_layer(self,name='embedding',embed_type='char',**kwargs):   #加载词向量的方法\r\n",
        "\r\n",
        "        def init_embedding(weights=None):\r\n",
        "            if embed_type == \"char\":\r\n",
        "                input_dim = self._params['max_features']\r\n",
        "                output_dim = self._params['embed_size']\r\n",
        "            else:\r\n",
        "                input_dim = self._params['word_max_features']\r\n",
        "                output_dim = self._params['word_embed_size']\r\n",
        "\r\n",
        "            return keras.layers.Embedding(\r\n",
        "                input_dim = input_dim,\r\n",
        "                output_dim = output_dim,\r\n",
        "                trainable = False,\r\n",
        "                name = name,\r\n",
        "                weights = weights,\r\n",
        "                **kwargs)\r\n",
        "\r\n",
        "        if embed_type == \"char\":\r\n",
        "            embed_weights = self._params['embedding_matrix']\r\n",
        "        else:\r\n",
        "            embed_weights = self._params['word_embedding_matrix']\r\n",
        "\r\n",
        "        if embed_weights == []:\r\n",
        "            embedding = init_embedding()\r\n",
        "        else:\r\n",
        "            embedding = init_embedding(weights = [embed_weights])\r\n",
        "\r\n",
        "        return embedding\r\n",
        "\r\n",
        "    def _make_multi_layer_perceptron_layer(self) -> keras.layers.Layer:   #多层感知机方法（全连接）\r\n",
        "        # TODO: do not create new layers for a second call\r\n",
        "        def _wrapper(x):\r\n",
        "            activation = self._params['mlp_activation_func']   #全连接激活函数\r\n",
        "            for _ in range(self._params['mlp_num_layers']):  #全连接层数\r\n",
        "                x = keras.layers.Dense(self._params['mlp_num_units'],   #全连接神经元数\r\n",
        "                                       activation=activation)(x)\r\n",
        "            return keras.layers.Dense(self._params['mlp_num_fan_out'],  #全连接最后一层神经元数\r\n",
        "                                      activation=activation)(x)\r\n",
        "\r\n",
        "        return _wrapper\r\n",
        "\r\n",
        "    def _make_inputs(self) -> list:        #定义输入层，这里只有两个输入，也就是要判断是否匹配的两段文本\r\n",
        "        input_left = keras.layers.Input(\r\n",
        "            name='text_left',\r\n",
        "            shape=self._params['input_shapes'][0]\r\n",
        "        )\r\n",
        "        input_right = keras.layers.Input(\r\n",
        "            name='text_right',\r\n",
        "            shape=self._params['input_shapes'][1]\r\n",
        "        )\r\n",
        "        return [input_left, input_right]\r\n",
        "\r\n",
        "    def _make_output_layer(self) -> keras.layers.Layer:   #定义输出层\r\n",
        "        \"\"\":return: a correctly shaped keras dense layer for model output.\"\"\"\r\n",
        "        task = self._params['task']\r\n",
        "        if task == \"Classification\":\r\n",
        "            return keras.layers.Dense(self._params['num_classes'], activation='softmax')  #分类使用softmax，两个文档输入就分类\r\n",
        "        elif task == \"Ranking\":\r\n",
        "            return keras.layers.Dense(1, activation='linear')          #排序使用linear，多个文档输入就排序\r\n",
        "        else:\r\n",
        "            raise ValueError(f\"{task} is not a valid task type.\"\r\n",
        "                             f\"Must be in `Ranking` and `Classification`.\")\r\n",
        "\r\n",
        "\r\n",
        "    def build(self):\r\n",
        "        \"\"\"\r\n",
        "        Build the model.\r\n",
        "        \"\"\"\r\n",
        "        a, b = self._make_inputs()\r\n",
        "\r\n",
        "        # ---------- Embedding layer ---------- #\r\n",
        "        embedding = self.make_embedding_layer()\r\n",
        "        embedded_a = embedding(a)\r\n",
        "        embedded_b = embedding(b)\r\n",
        "\r\n",
        "        # ---------- Encoding layer ---------- #\r\n",
        "        # encoded_a = keras.layers.Bidirectional(keras.layers.LSTM(\r\n",
        "        #     self._params['lstm_units'],\r\n",
        "        #     return_sequences=True,\r\n",
        "        #     dropout=self._params['dropout_rate']\r\n",
        "        # ))(embedded_a)\r\n",
        "        # encoded_b = keras.layers.Bidirectional(keras.layers.LSTM(\r\n",
        "        #     self._params['lstm_units'],\r\n",
        "        #     return_sequences=True,\r\n",
        "        #     dropout=self._params['dropout_rate']\r\n",
        "        # ))(embedded_b)\r\n",
        "\r\n",
        "        bilstm = keras.layers.Bidirectional(keras.layers.LSTM(     #这里只使用了双向RNN，没有使用树RNN\r\n",
        "                    self._params['lstm_units'],\r\n",
        "                    return_sequences=True,\r\n",
        "                    dropout=self._params['dropout_rate']\r\n",
        "                ))\r\n",
        "\r\n",
        "        encoded_a = bilstm(embedded_a)\r\n",
        "        encoded_b = bilstm(embedded_b)\r\n",
        "\r\n",
        "        # ---------- Local inference layer ---------- #      #局部推理层\r\n",
        "        atten_a, atten_b = SoftAttention()([encoded_a, encoded_b])  #得到Attention\r\n",
        "\r\n",
        "        sub_a_atten = keras.layers.Lambda(lambda x: x[0]-x[1])([encoded_a, atten_a])   #向量减法\r\n",
        "        sub_b_atten = keras.layers.Lambda(lambda x: x[0]-x[1])([encoded_b, atten_b])   \r\n",
        "\r\n",
        "        mul_a_atten = keras.layers.Lambda(lambda x: x[0]*x[1])([encoded_a, atten_a])   #向量点积\r\n",
        "        mul_b_atten = keras.layers.Lambda(lambda x: x[0]*x[1])([encoded_b, atten_b])\r\n",
        "\r\n",
        "        m_a = keras.layers.concatenate([encoded_a, atten_a, sub_a_atten, mul_a_atten])  #连接\r\n",
        "        m_b = keras.layers.concatenate([encoded_b, atten_b, sub_b_atten, mul_b_atten])\r\n",
        "\r\n",
        "        # ---------- Inference composition layer ---------- #   #推理组合层\r\n",
        "        composition_a = keras.layers.Bidirectional(keras.layers.LSTM(    #使用双向RNN捕捉关系\r\n",
        "            self._params['lstm_units'],\r\n",
        "            return_sequences=True,\r\n",
        "            dropout=self._params['dropout_rate']\r\n",
        "        ))(m_a)\r\n",
        "\r\n",
        "        avg_pool_a = keras.layers.GlobalAveragePooling1D()(composition_a)  #同时使用最大池化和平均池化，并且连接起来\r\n",
        "        max_pool_a = keras.layers.GlobalMaxPooling1D()(composition_a)\r\n",
        "\r\n",
        "        composition_b = keras.layers.Bidirectional(keras.layers.LSTM(    \r\n",
        "            self._params['lstm_units'],\r\n",
        "            return_sequences=True,\r\n",
        "            dropout=self._params['dropout_rate']\r\n",
        "        ))(m_b)\r\n",
        "\r\n",
        "        avg_pool_b = keras.layers.GlobalAveragePooling1D()(composition_b)\r\n",
        "        max_pool_b = keras.layers.GlobalMaxPooling1D()(composition_b)\r\n",
        "\r\n",
        "        pooled = keras.layers.concatenate([avg_pool_a, max_pool_a, avg_pool_b, max_pool_b]) #连接\r\n",
        "        pooled = keras.layers.Dropout(rate=self._params['dropout_rate'])(pooled)\r\n",
        "\r\n",
        "        # ---------- Classification layer ---------- #\r\n",
        "        mlp = self._make_multi_layer_perceptron_layer()(pooled)\r\n",
        "        mlp = keras.layers.Dropout(\r\n",
        "            rate=self._params['dropout_rate'])(mlp)\r\n",
        "\r\n",
        "        prediction = self._make_output_layer()(mlp)\r\n",
        "\r\n",
        "        model = Model(inputs=[a, b], outputs=prediction)\r\n",
        "\r\n",
        "        return model"
      ],
      "execution_count": 20,
      "outputs": []
    },
    {
      "cell_type": "markdown",
      "metadata": {
        "id": "D1e3S0tjNibw"
      },
      "source": [
        "# 加载模型训练"
      ]
    },
    {
      "cell_type": "code",
      "metadata": {
        "id": "S-YbfumJH8Uz"
      },
      "source": [
        "params = base_params\r\n",
        "backend = ESIM(params)"
      ],
      "execution_count": 21,
      "outputs": []
    },
    {
      "cell_type": "code",
      "metadata": {
        "id": "io6Qv_rvJ21Z"
      },
      "source": [
        "model = backend.build()"
      ],
      "execution_count": 22,
      "outputs": []
    },
    {
      "cell_type": "code",
      "metadata": {
        "id": "q3iwKspxL4Cp"
      },
      "source": [
        "model.compile(\r\n",
        "        loss='categorical_crossentropy', \r\n",
        "        optimizer='adam', \r\n",
        "        metrics=['accuracy']\r\n",
        "        )"
      ],
      "execution_count": 23,
      "outputs": []
    },
    {
      "cell_type": "code",
      "metadata": {
        "colab": {
          "base_uri": "https://localhost:8080/"
        },
        "id": "d6dVcvRdL9Wf",
        "outputId": "10c43f7d-a65b-421b-a9c8-8e8a4a611aba"
      },
      "source": [
        "print(model.summary())"
      ],
      "execution_count": 24,
      "outputs": [
        {
          "output_type": "stream",
          "text": [
            "Model: \"model\"\n",
            "__________________________________________________________________________________________________\n",
            "Layer (type)                    Output Shape         Param #     Connected to                     \n",
            "==================================================================================================\n",
            "text_left (InputLayer)          [(None, 64)]         0                                            \n",
            "__________________________________________________________________________________________________\n",
            "text_right (InputLayer)         [(None, 64)]         0                                            \n",
            "__________________________________________________________________________________________________\n",
            "embedding (Embedding)           (None, 64, 100)      170000      text_left[0][0]                  \n",
            "                                                                 text_right[0][0]                 \n",
            "__________________________________________________________________________________________________\n",
            "bidirectional (Bidirectional)   (None, 64, 128)      84480       embedding[0][0]                  \n",
            "                                                                 embedding[1][0]                  \n",
            "__________________________________________________________________________________________________\n",
            "lambda (Lambda)                 (None, 64, 64)       0           bidirectional[0][0]              \n",
            "                                                                 bidirectional[1][0]              \n",
            "__________________________________________________________________________________________________\n",
            "lambda_1 (Lambda)               (None, 64, 128)      0           lambda[0][0]                     \n",
            "                                                                 bidirectional[0][0]              \n",
            "__________________________________________________________________________________________________\n",
            "lambda_2 (Lambda)               (None, 64, 128)      0           lambda[0][0]                     \n",
            "                                                                 bidirectional[1][0]              \n",
            "__________________________________________________________________________________________________\n",
            "lambda_3 (Lambda)               (None, 64, 128)      0           bidirectional[0][0]              \n",
            "                                                                 lambda_1[0][0]                   \n",
            "__________________________________________________________________________________________________\n",
            "lambda_5 (Lambda)               (None, 64, 128)      0           bidirectional[0][0]              \n",
            "                                                                 lambda_1[0][0]                   \n",
            "__________________________________________________________________________________________________\n",
            "lambda_4 (Lambda)               (None, 64, 128)      0           bidirectional[1][0]              \n",
            "                                                                 lambda_2[0][0]                   \n",
            "__________________________________________________________________________________________________\n",
            "lambda_6 (Lambda)               (None, 64, 128)      0           bidirectional[1][0]              \n",
            "                                                                 lambda_2[0][0]                   \n",
            "__________________________________________________________________________________________________\n",
            "concatenate (Concatenate)       (None, 64, 512)      0           bidirectional[0][0]              \n",
            "                                                                 lambda_1[0][0]                   \n",
            "                                                                 lambda_3[0][0]                   \n",
            "                                                                 lambda_5[0][0]                   \n",
            "__________________________________________________________________________________________________\n",
            "concatenate_1 (Concatenate)     (None, 64, 512)      0           bidirectional[1][0]              \n",
            "                                                                 lambda_2[0][0]                   \n",
            "                                                                 lambda_4[0][0]                   \n",
            "                                                                 lambda_6[0][0]                   \n",
            "__________________________________________________________________________________________________\n",
            "bidirectional_1 (Bidirectional) (None, 64, 128)      295424      concatenate[0][0]                \n",
            "__________________________________________________________________________________________________\n",
            "bidirectional_2 (Bidirectional) (None, 64, 128)      295424      concatenate_1[0][0]              \n",
            "__________________________________________________________________________________________________\n",
            "global_average_pooling1d (Globa (None, 128)          0           bidirectional_1[0][0]            \n",
            "__________________________________________________________________________________________________\n",
            "global_max_pooling1d (GlobalMax (None, 128)          0           bidirectional_1[0][0]            \n",
            "__________________________________________________________________________________________________\n",
            "global_average_pooling1d_1 (Glo (None, 128)          0           bidirectional_2[0][0]            \n",
            "__________________________________________________________________________________________________\n",
            "global_max_pooling1d_1 (GlobalM (None, 128)          0           bidirectional_2[0][0]            \n",
            "__________________________________________________________________________________________________\n",
            "concatenate_2 (Concatenate)     (None, 512)          0           global_average_pooling1d[0][0]   \n",
            "                                                                 global_max_pooling1d[0][0]       \n",
            "                                                                 global_average_pooling1d_1[0][0] \n",
            "                                                                 global_max_pooling1d_1[0][0]     \n",
            "__________________________________________________________________________________________________\n",
            "dropout (Dropout)               (None, 512)          0           concatenate_2[0][0]              \n",
            "__________________________________________________________________________________________________\n",
            "dense (Dense)                   (None, 256)          131328      dropout[0][0]                    \n",
            "__________________________________________________________________________________________________\n",
            "dense_1 (Dense)                 (None, 128)          32896       dense[0][0]                      \n",
            "__________________________________________________________________________________________________\n",
            "dropout_1 (Dropout)             (None, 128)          0           dense_1[0][0]                    \n",
            "__________________________________________________________________________________________________\n",
            "dense_2 (Dense)                 (None, 2)            258         dropout_1[0][0]                  \n",
            "==================================================================================================\n",
            "Total params: 1,009,810\n",
            "Trainable params: 839,810\n",
            "Non-trainable params: 170,000\n",
            "__________________________________________________________________________________________________\n",
            "None\n"
          ],
          "name": "stdout"
        }
      ]
    },
    {
      "cell_type": "code",
      "metadata": {
        "id": "XWz0ftrfMVMg"
      },
      "source": [
        "!mkdir output"
      ],
      "execution_count": 25,
      "outputs": []
    },
    {
      "cell_type": "code",
      "metadata": {
        "colab": {
          "base_uri": "https://localhost:8080/"
        },
        "id": "LC3Lp-9-MGtf",
        "outputId": "910218c3-5252-498f-e8a5-b402b12ef3b6"
      },
      "source": [
        "earlystop = keras.callbacks.EarlyStopping(\r\n",
        "        monitor='val_accuracy', \r\n",
        "        patience=4, \r\n",
        "        verbose=2, \r\n",
        "        mode='max'\r\n",
        "        )\r\n",
        "model_name = 'esim'\r\n",
        "bast_model_filepath = './output/best_%s_model.h5' % model_name\r\n",
        "checkpoint = keras.callbacks.ModelCheckpoint(\r\n",
        "    bast_model_filepath, \r\n",
        "    monitor='val_accuracy', \r\n",
        "    verbose=1, \r\n",
        "    save_best_only=True,\r\n",
        "    mode='max'\r\n",
        "    )\r\n",
        "model.fit(\r\n",
        "    x=x, \r\n",
        "    y=y, \r\n",
        "    batch_size=64, \r\n",
        "    epochs=15, \r\n",
        "    validation_data=(x_eval, y_eval), \r\n",
        "    shuffle=True, \r\n",
        "    callbacks=[earlystop,checkpoint]\r\n",
        "    )"
      ],
      "execution_count": 26,
      "outputs": [
        {
          "output_type": "stream",
          "text": [
            "Epoch 1/15\n",
            "1563/1563 [==============================] - 97s 53ms/step - loss: 0.6826 - accuracy: 0.5435 - val_loss: 0.6355 - val_accuracy: 0.6405\n",
            "\n",
            "Epoch 00001: val_accuracy improved from -inf to 0.64050, saving model to ./output/best_esim_model.h5\n",
            "Epoch 2/15\n",
            "1563/1563 [==============================] - 81s 52ms/step - loss: 0.6410 - accuracy: 0.6218 - val_loss: 0.5959 - val_accuracy: 0.6751\n",
            "\n",
            "Epoch 00002: val_accuracy improved from 0.64050 to 0.67510, saving model to ./output/best_esim_model.h5\n",
            "Epoch 3/15\n",
            "1563/1563 [==============================] - 80s 51ms/step - loss: 0.6017 - accuracy: 0.6687 - val_loss: 0.5642 - val_accuracy: 0.7004\n",
            "\n",
            "Epoch 00003: val_accuracy improved from 0.67510 to 0.70040, saving model to ./output/best_esim_model.h5\n",
            "Epoch 4/15\n",
            "1563/1563 [==============================] - 80s 51ms/step - loss: 0.5694 - accuracy: 0.6972 - val_loss: 0.5496 - val_accuracy: 0.7165\n",
            "\n",
            "Epoch 00004: val_accuracy improved from 0.70040 to 0.71650, saving model to ./output/best_esim_model.h5\n",
            "Epoch 5/15\n",
            "1563/1563 [==============================] - 81s 52ms/step - loss: 0.5488 - accuracy: 0.7144 - val_loss: 0.5341 - val_accuracy: 0.7253\n",
            "\n",
            "Epoch 00005: val_accuracy improved from 0.71650 to 0.72530, saving model to ./output/best_esim_model.h5\n",
            "Epoch 6/15\n",
            "1563/1563 [==============================] - 80s 51ms/step - loss: 0.5267 - accuracy: 0.7324 - val_loss: 0.5213 - val_accuracy: 0.7385\n",
            "\n",
            "Epoch 00006: val_accuracy improved from 0.72530 to 0.73850, saving model to ./output/best_esim_model.h5\n",
            "Epoch 7/15\n",
            "1563/1563 [==============================] - 81s 52ms/step - loss: 0.5077 - accuracy: 0.7463 - val_loss: 0.5087 - val_accuracy: 0.7459\n",
            "\n",
            "Epoch 00007: val_accuracy improved from 0.73850 to 0.74590, saving model to ./output/best_esim_model.h5\n",
            "Epoch 8/15\n",
            "1563/1563 [==============================] - 81s 52ms/step - loss: 0.4877 - accuracy: 0.7587 - val_loss: 0.5170 - val_accuracy: 0.7290\n",
            "\n",
            "Epoch 00008: val_accuracy did not improve from 0.74590\n",
            "Epoch 9/15\n",
            "1563/1563 [==============================] - 81s 52ms/step - loss: 0.4737 - accuracy: 0.7696 - val_loss: 0.5097 - val_accuracy: 0.7556\n",
            "\n",
            "Epoch 00009: val_accuracy improved from 0.74590 to 0.75560, saving model to ./output/best_esim_model.h5\n",
            "Epoch 10/15\n",
            "1563/1563 [==============================] - 81s 52ms/step - loss: 0.4592 - accuracy: 0.7775 - val_loss: 0.5035 - val_accuracy: 0.7616\n",
            "\n",
            "Epoch 00010: val_accuracy improved from 0.75560 to 0.76160, saving model to ./output/best_esim_model.h5\n",
            "Epoch 11/15\n",
            "1563/1563 [==============================] - 81s 52ms/step - loss: 0.4441 - accuracy: 0.7874 - val_loss: 0.4809 - val_accuracy: 0.7691\n",
            "\n",
            "Epoch 00011: val_accuracy improved from 0.76160 to 0.76910, saving model to ./output/best_esim_model.h5\n",
            "Epoch 12/15\n",
            "1563/1563 [==============================] - 81s 52ms/step - loss: 0.4278 - accuracy: 0.7993 - val_loss: 0.4934 - val_accuracy: 0.7599\n",
            "\n",
            "Epoch 00012: val_accuracy did not improve from 0.76910\n",
            "Epoch 13/15\n",
            "1563/1563 [==============================] - 81s 52ms/step - loss: 0.4139 - accuracy: 0.8081 - val_loss: 0.4998 - val_accuracy: 0.7693\n",
            "\n",
            "Epoch 00013: val_accuracy improved from 0.76910 to 0.76930, saving model to ./output/best_esim_model.h5\n",
            "Epoch 14/15\n",
            "1563/1563 [==============================] - 81s 52ms/step - loss: 0.4013 - accuracy: 0.8127 - val_loss: 0.4826 - val_accuracy: 0.7806\n",
            "\n",
            "Epoch 00014: val_accuracy improved from 0.76930 to 0.78060, saving model to ./output/best_esim_model.h5\n",
            "Epoch 15/15\n",
            "1563/1563 [==============================] - 81s 52ms/step - loss: 0.3892 - accuracy: 0.8207 - val_loss: 0.5078 - val_accuracy: 0.7708\n",
            "\n",
            "Epoch 00015: val_accuracy did not improve from 0.78060\n"
          ],
          "name": "stdout"
        },
        {
          "output_type": "execute_result",
          "data": {
            "text/plain": [
              "<tensorflow.python.keras.callbacks.History at 0x7f9c30ff5ba8>"
            ]
          },
          "metadata": {
            "tags": []
          },
          "execution_count": 26
        }
      ]
    },
    {
      "cell_type": "code",
      "metadata": {
        "id": "RinZM_KhNoj_"
      },
      "source": [
        "# 保存模型\r\n",
        "model_frame_path = \"./output/%s_model.json\" % model_name\r\n",
        "model_json = model.to_json()\r\n",
        "with open(model_frame_path, \"w\") as json_file:\r\n",
        "    json_file.write(model_json)"
      ],
      "execution_count": 27,
      "outputs": []
    },
    {
      "cell_type": "markdown",
      "metadata": {
        "id": "VjL7-L8RN-8n"
      },
      "source": [
        "# 测试模型"
      ]
    },
    {
      "cell_type": "code",
      "metadata": {
        "colab": {
          "base_uri": "https://localhost:8080/"
        },
        "id": "aS99ULO0N112",
        "outputId": "d9c38deb-9e75-4f07-c5e5-cdd684363d98"
      },
      "source": [
        "model.load_weights(bast_model_filepath)\r\n",
        "model.compile(\r\n",
        "    loss='categorical_crossentropy', \r\n",
        "    optimizer='adam', \r\n",
        "    metrics=['accuracy']\r\n",
        "    )\r\n",
        "\r\n",
        "loss, acc = model.evaluate(\r\n",
        "    x=x_test, \r\n",
        "    y=y_test, \r\n",
        "    batch_size=128, \r\n",
        "    verbose=1\r\n",
        "    )\r\n",
        "print(\"Test loss:\",loss, \"Test accuracy:\",acc)"
      ],
      "execution_count": 28,
      "outputs": [
        {
          "output_type": "stream",
          "text": [
            "79/79 [==============================] - 6s 27ms/step - loss: 0.4869 - accuracy: 0.7711\n",
            "Test loss: 0.4861876368522644 Test accuracy: 0.7721999883651733\n"
          ],
          "name": "stdout"
        }
      ]
    }
  ]
}